{
 "cells": [
  {
   "cell_type": "code",
   "execution_count": 1,
   "metadata": {
    "collapsed": false
   },
   "outputs": [
    {
     "name": "stderr",
     "output_type": "stream",
     "text": [
      "/usr/local/lib/python2.7/dist-packages/IPython/html.py:14: ShimWarning: The `IPython.html` package has been deprecated. You should import from `notebook` instead. `IPython.html.widgets` has moved to `ipywidgets`.\n",
      "  \"`IPython.html.widgets` has moved to `ipywidgets`.\", ShimWarning)\n"
     ]
    }
   ],
   "source": [
    "import pandas as pd\n",
    "import sklearn.preprocessing as pre\n",
    "import xgboost as xgb\n",
    "import matplotlib.pyplot as plt\n",
    "import seaborn as sns\n",
    "import numpy as np"
   ]
  },
  {
   "cell_type": "code",
   "execution_count": 2,
   "metadata": {
    "collapsed": true
   },
   "outputs": [],
   "source": [
    "#Read data into the training set\n",
    "train_data = pd.read_csv(\"../data/train.csv\")"
   ]
  },
  {
   "cell_type": "code",
   "execution_count": 3,
   "metadata": {
    "collapsed": false
   },
   "outputs": [
    {
     "name": "stdout",
     "output_type": "stream",
     "text": [
      "(30471, 292)\n"
     ]
    }
   ],
   "source": [
    "print train_data.shape"
   ]
  },
  {
   "cell_type": "code",
   "execution_count": 4,
   "metadata": {
    "collapsed": false
   },
   "outputs": [
    {
     "name": "stdout",
     "output_type": "stream",
     "text": [
      "                                       Total  Percentage\n",
      "hospital_beds_raion                    14441    0.473926\n",
      "build_year                             13605    0.446490\n",
      "state                                  13559    0.444980\n",
      "cafe_avg_price_500                     13281    0.435857\n",
      "cafe_sum_500_max_price_avg             13281    0.435857\n",
      "cafe_sum_500_min_price_avg             13281    0.435857\n",
      "max_floor                               9572    0.314135\n",
      "material                                9572    0.314135\n",
      "num_room                                9572    0.314135\n",
      "kitch_sq                                9572    0.314135\n",
      "preschool_quota                         6688    0.219487\n",
      "school_quota                            6685    0.219389\n",
      "cafe_sum_1000_min_price_avg             6524    0.214105\n",
      "cafe_sum_1000_max_price_avg             6524    0.214105\n",
      "cafe_avg_price_1000                     6524    0.214105\n",
      "life_sq                                 6383    0.209478\n",
      "build_count_frame                       4991    0.163795\n",
      "build_count_1971-1995                   4991    0.163795\n",
      "build_count_block                       4991    0.163795\n",
      "raion_build_count_with_material_info    4991    0.163795\n",
      "build_count_after_1995                  4991    0.163795\n",
      "build_count_brick                       4991    0.163795\n",
      "build_count_wood                        4991    0.163795\n",
      "build_count_mix                         4991    0.163795\n",
      "build_count_1921-1945                   4991    0.163795\n",
      "build_count_panel                       4991    0.163795\n",
      "build_count_foam                        4991    0.163795\n",
      "build_count_slag                        4991    0.163795\n",
      "raion_build_count_with_builddate_info   4991    0.163795\n",
      "build_count_monolith                    4991    0.163795\n",
      "...                                      ...         ...\n",
      "cafe_count_1500_na_price                   0    0.000000\n",
      "cafe_count_1500                            0    0.000000\n",
      "trc_sqm_1500                               0    0.000000\n",
      "trc_count_1500                             0    0.000000\n",
      "office_sqm_1500                            0    0.000000\n",
      "office_count_1500                          0    0.000000\n",
      "prom_part_1500                             0    0.000000\n",
      "green_part_1500                            0    0.000000\n",
      "market_count_1000                          0    0.000000\n",
      "sport_count_1000                           0    0.000000\n",
      "leisure_count_1000                         0    0.000000\n",
      "mosque_count_1000                          0    0.000000\n",
      "church_count_1000                          0    0.000000\n",
      "cafe_count_1000_price_high                 0    0.000000\n",
      "sport_count_500                            0    0.000000\n",
      "cafe_count_1000_price_4000                 0    0.000000\n",
      "cafe_count_1000_price_2500                 0    0.000000\n",
      "cafe_count_1000_price_1500                 0    0.000000\n",
      "cafe_count_1000_price_1000                 0    0.000000\n",
      "cafe_count_1000_price_500                  0    0.000000\n",
      "cafe_count_1000_na_price                   0    0.000000\n",
      "cafe_count_1000                            0    0.000000\n",
      "trc_sqm_1000                               0    0.000000\n",
      "trc_count_1000                             0    0.000000\n",
      "office_sqm_1000                            0    0.000000\n",
      "office_count_1000                          0    0.000000\n",
      "prom_part_1000                             0    0.000000\n",
      "green_part_1000                            0    0.000000\n",
      "market_count_500                           0    0.000000\n",
      "id                                         0    0.000000\n",
      "\n",
      "[292 rows x 2 columns]\n"
     ]
    }
   ],
   "source": [
    "#Trying to identify NaN values in the variables\n",
    "total = train_data.isnull().sum().sort_values(ascending = False)\n",
    "percent = (train_data.isnull().sum()/train_data.isnull().count()).sort_values(ascending = False)\n",
    "missing_data = pd.concat([total,percent],axis=1,keys = [\"Total\",\"Percentage\"])\n",
    "print(missing_data)"
   ]
  },
  {
   "cell_type": "code",
   "execution_count": 5,
   "metadata": {
    "collapsed": false
   },
   "outputs": [
    {
     "name": "stdout",
     "output_type": "stream",
     "text": [
      "(30471, 241)\n"
     ]
    }
   ],
   "source": [
    "#Delete all NaN values for now\n",
    "train_data = train_data.drop(missing_data[missing_data[\"Total\"]>0].index,1)\n",
    "print train_data.shape"
   ]
  },
  {
   "cell_type": "code",
   "execution_count": 18,
   "metadata": {
    "collapsed": false
   },
   "outputs": [
    {
     "name": "stdout",
     "output_type": "stream",
     "text": [
      "[5850000 6000000 5700000 13100000 16331452 9100000 5500000 2000000 5300000]\n"
     ]
    }
   ],
   "source": [
    "t = train_data.values\n",
    "print t[0:9,240]"
   ]
  },
  {
   "cell_type": "code",
   "execution_count": 20,
   "metadata": {
    "collapsed": true
   },
   "outputs": [],
   "source": [
    "np.save('../data/NAN_Remove_train.npy',t)"
   ]
  },
  {
   "cell_type": "code",
   "execution_count": 17,
   "metadata": {
    "collapsed": false
   },
   "outputs": [
    {
     "name": "stdout",
     "output_type": "stream",
     "text": [
      "[5850000 6000000 5700000 13100000 16331452 9100000 5500000 2000000 5300000]\n"
     ]
    }
   ],
   "source": []
  },
  {
   "cell_type": "raw",
   "metadata": {},
   "source": []
  }
 ],
 "metadata": {
  "kernelspec": {
   "display_name": "Python 2",
   "language": "python",
   "name": "python2"
  },
  "language_info": {
   "codemirror_mode": {
    "name": "ipython",
    "version": 2
   },
   "file_extension": ".py",
   "mimetype": "text/x-python",
   "name": "python",
   "nbconvert_exporter": "python",
   "pygments_lexer": "ipython2",
   "version": "2.7.6"
  }
 },
 "nbformat": 4,
 "nbformat_minor": 1
}
