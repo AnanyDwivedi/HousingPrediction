{
 "cells": [
  {
   "cell_type": "code",
   "execution_count": 1,
   "metadata": {
    "collapsed": false
   },
   "outputs": [],
   "source": [
    "import pandas as pd\n",
    "import sklearn.preprocessing as pre\n",
    "import xgboost as xgb\n",
    "import matplotlib.pyplot as plt\n",
    "import seaborn as sns\n",
    "import numpy as np"
   ]
  },
  {
   "cell_type": "code",
   "execution_count": 2,
   "metadata": {
    "collapsed": true
   },
   "outputs": [],
   "source": [
    "#Read data into the training set\n",
    "train_data = pd.read_csv(\"../data/train.csv\")\n",
    "val_data = pd.read_csv(\"../data/test.csv\")"
   ]
  },
  {
   "cell_type": "code",
   "execution_count": 3,
   "metadata": {
    "collapsed": false
   },
   "outputs": [
    {
     "name": "stdout",
     "output_type": "stream",
     "text": [
      "30471\n",
      "(7662, 291)\n",
      "(38133, 291)\n"
     ]
    }
   ],
   "source": [
    "print train_data.shape[0]\n",
    "temp=train_data['price_doc']\n",
    "del train_data['price_doc']\n",
    "print val_data.shape\n",
    "total_data=[train_data,val_data]\n",
    "total_data=pd.concat(total_data)\n",
    "print total_data.shape"
   ]
  },
  {
   "cell_type": "code",
   "execution_count": 4,
   "metadata": {
    "collapsed": false,
    "scrolled": false
   },
   "outputs": [
    {
     "name": "stdout",
     "output_type": "stream",
     "text": [
      "                                       Total  Percentage\n",
      "hospital_beds_raion                    17859    0.468335\n",
      "cafe_sum_500_max_price_avg             16440    0.431123\n",
      "cafe_sum_500_min_price_avg             16440    0.431123\n",
      "cafe_avg_price_500                     16440    0.431123\n",
      "build_year                             14654    0.384287\n",
      "state                                  14253    0.373771\n",
      "max_floor                               9572    0.251016\n",
      "material                                9572    0.251016\n",
      "num_room                                9572    0.251016\n",
      "kitch_sq                                9572    0.251016\n",
      "preschool_quota                         8284    0.217240\n",
      "school_quota                            8280    0.217135\n",
      "cafe_sum_1000_min_price_avg             7746    0.203131\n",
      "cafe_sum_1000_max_price_avg             7746    0.203131\n",
      "cafe_avg_price_1000                     7746    0.203131\n",
      "life_sq                                 7559    0.198227\n",
      "build_count_panel                       6209    0.162825\n",
      "build_count_wood                        6209    0.162825\n",
      "build_count_frame                       6209    0.162825\n",
      "build_count_brick                       6209    0.162825\n",
      "build_count_monolith                    6209    0.162825\n",
      "build_count_1971-1995                   6209    0.162825\n",
      "build_count_before_1920                 6209    0.162825\n",
      "build_count_foam                        6209    0.162825\n",
      "build_count_slag                        6209    0.162825\n",
      "build_count_mix                         6209    0.162825\n",
      "raion_build_count_with_builddate_info   6209    0.162825\n",
      "build_count_block                       6209    0.162825\n",
      "build_count_after_1995                  6209    0.162825\n",
      "build_count_1921-1945                   6209    0.162825\n",
      "...                                      ...         ...\n",
      "cafe_count_1500                            0    0.000000\n",
      "trc_sqm_1500                               0    0.000000\n",
      "trc_count_1500                             0    0.000000\n",
      "office_sqm_1500                            0    0.000000\n",
      "office_count_1500                          0    0.000000\n",
      "prom_part_1500                             0    0.000000\n",
      "green_part_1500                            0    0.000000\n",
      "market_count_1000                          0    0.000000\n",
      "sport_count_1000                           0    0.000000\n",
      "leisure_count_1000                         0    0.000000\n",
      "mosque_count_1000                          0    0.000000\n",
      "church_count_1000                          0    0.000000\n",
      "big_church_count_1000                      0    0.000000\n",
      "cafe_count_1000_price_4000                 0    0.000000\n",
      "leisure_count_500                          0    0.000000\n",
      "cafe_count_1000_price_2500                 0    0.000000\n",
      "cafe_count_1000_price_1500                 0    0.000000\n",
      "cafe_count_1000_price_1000                 0    0.000000\n",
      "cafe_count_1000_price_500                  0    0.000000\n",
      "cafe_count_1000_na_price                   0    0.000000\n",
      "cafe_count_1000                            0    0.000000\n",
      "trc_sqm_1000                               0    0.000000\n",
      "trc_count_1000                             0    0.000000\n",
      "office_sqm_1000                            0    0.000000\n",
      "office_count_1000                          0    0.000000\n",
      "prom_part_1000                             0    0.000000\n",
      "green_part_1000                            0    0.000000\n",
      "market_count_500                           0    0.000000\n",
      "sport_count_500                            0    0.000000\n",
      "id                                         0    0.000000\n",
      "\n",
      "[291 rows x 2 columns]\n"
     ]
    }
   ],
   "source": [
    "#Trying to identify NaN values in the variables\n",
    "total = total_data.isnull().sum().sort_values(ascending = False)\n",
    "percent = (total_data.isnull().sum()/total_data.isnull().count()).sort_values(ascending = False)\n",
    "missing_data = pd.concat([total,percent],axis=1,keys = [\"Total\",\"Percentage\"])\n",
    "print(missing_data)"
   ]
  },
  {
   "cell_type": "code",
   "execution_count": 5,
   "metadata": {
    "collapsed": false
   },
   "outputs": [
    {
     "name": "stdout",
     "output_type": "stream",
     "text": [
      "(38133, 238)\n"
     ]
    }
   ],
   "source": [
    "#Delete all NaN values for now\n",
    "total_data = total_data.drop(missing_data[missing_data[\"Total\"]>0].index,1)\n",
    "print total_data.shape"
   ]
  },
  {
   "cell_type": "code",
   "execution_count": 8,
   "metadata": {
    "collapsed": false
   },
   "outputs": [
    {
     "name": "stdout",
     "output_type": "stream",
     "text": [
      "(30471, 238)\n",
      "(30471, 1)\n",
      "(30471, 239)\n",
      "(7662, 238)\n"
     ]
    }
   ],
   "source": [
    "t = total_data.values\n",
    "labels = temp.values\n",
    "labels = np.reshape(labels,(labels.shape[0],1))\n",
    "train = t[0:train_data.shape[0],:]\n",
    "print train.shape\n",
    "print labels.shape\n",
    "train = np.concatenate((train,labels),1)\n",
    "print train.shape\n",
    "test = t[train_data.shape[0]:,:]\n",
    "print test.shape\n"
   ]
  },
  {
   "cell_type": "code",
   "execution_count": 9,
   "metadata": {
    "collapsed": true
   },
   "outputs": [],
   "source": [
    "np.save('../data/NAN_Remove_train.npy',train)\n",
    "np.save('../data/NAN_Remove_test.npy',test)"
   ]
  },
  {
   "cell_type": "code",
   "execution_count": 17,
   "metadata": {
    "collapsed": false
   },
   "outputs": [
    {
     "name": "stdout",
     "output_type": "stream",
     "text": [
      "[5850000 6000000 5700000 13100000 16331452 9100000 5500000 2000000 5300000]\n"
     ]
    }
   ],
   "source": []
  },
  {
   "cell_type": "raw",
   "metadata": {},
   "source": []
  }
 ],
 "metadata": {
  "kernelspec": {
   "display_name": "Python [Root]",
   "language": "python",
   "name": "Python [Root]"
  },
  "language_info": {
   "codemirror_mode": {
    "name": "ipython",
    "version": 2
   },
   "file_extension": ".py",
   "mimetype": "text/x-python",
   "name": "python",
   "nbconvert_exporter": "python",
   "pygments_lexer": "ipython2",
   "version": "2.7.12"
  }
 },
 "nbformat": 4,
 "nbformat_minor": 1
}
