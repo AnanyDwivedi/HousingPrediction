{
 "cells": [
  {
   "cell_type": "code",
   "execution_count": 2,
   "metadata": {
    "collapsed": false
   },
   "outputs": [],
   "source": [
    "import numpy as np\n",
    "data = np.load('../data/NAN_Remove_train.npy')"
   ]
  },
  {
   "cell_type": "code",
   "execution_count": 3,
   "metadata": {
    "collapsed": false
   },
   "outputs": [
    {
     "data": {
      "text/plain": [
       "False"
      ]
     },
     "execution_count": 3,
     "metadata": {},
     "output_type": "execute_result"
    }
   ],
   "source": [
    "isinstance(data[:,1], str)"
   ]
  },
  {
   "cell_type": "code",
   "execution_count": 4,
   "metadata": {
    "collapsed": false
   },
   "outputs": [
    {
     "name": "stdout",
     "output_type": "stream",
     "text": [
      "[[1 '2011-08-20' 43 ..., 52 4 5850000]\n",
      " [2 '2011-08-23' 34 ..., 66 14 6000000]\n",
      " [3 '2011-08-27' 43 ..., 67 10 5700000]\n",
      " ..., \n",
      " [30471 '2015-06-30' 45 ..., 11 1 6970959]\n",
      " [30472 '2015-06-30' 64 ..., 65 7 13500000]\n",
      " [30473 '2015-06-30' 43 ..., 54 10 5600000]]\n",
      "2011\n",
      "08\n",
      "23\n"
     ]
    }
   ],
   "source": [
    "print data\n",
    "temp = data[1,1]\n",
    "print temp[0:4]\n",
    "print temp[5:7]\n",
    "print temp[8:10]"
   ]
  },
  {
   "cell_type": "code",
   "execution_count": 5,
   "metadata": {
    "collapsed": false
   },
   "outputs": [
    {
     "name": "stdout",
     "output_type": "stream",
     "text": [
      "(30471, 1)\n",
      "(30471, 243) (30471, 1)\n"
     ]
    }
   ],
   "source": [
    "#Change date format\n",
    "year = np.zeros((data.shape[0],1))\n",
    "month = np.zeros((data.shape[0],1))\n",
    "day = np.zeros((data.shape[0],1))\n",
    "dt = np.zeros((data.shape[0],1))\n",
    "for i in range(data.shape[0]):\n",
    "    temp = data[i,1]\n",
    "    year[i] = temp[0:4]\n",
    "    month[i] = temp[5:7]\n",
    "    day[i] = temp[8:10]\n",
    "print year.shape \n",
    "idx = data[:,0]\n",
    "idx = np.reshape(idx,(idx.shape[0],1))\n",
    "RestData = data[:,2:data.shape[1]]\n",
    "dt = np.concatenate((idx,year,month,day,RestData),1)\n",
    "print dt.shape,idx.shape"
   ]
  },
  {
   "cell_type": "code",
   "execution_count": 6,
   "metadata": {
    "collapsed": false
   },
   "outputs": [
    {
     "name": "stdout",
     "output_type": "stream",
     "text": [
      "30471\n"
     ]
    }
   ],
   "source": [
    "#Encode column 5\n",
    "j = 0\n",
    "for i in range(dt.shape[0]):\n",
    "    if dt[i,5] == 'Investment':\n",
    "        dt[i,5] = 1\n",
    "        j +=1\n",
    "    elif dt[i,5] == 'OwnerOccupier':\n",
    "        dt[i,5] = 2\n",
    "        j +=1\n",
    "print j\n",
    "\n"
   ]
  },
  {
   "cell_type": "code",
   "execution_count": 9,
   "metadata": {
    "collapsed": false
   },
   "outputs": [
    {
     "name": "stdout",
     "output_type": "stream",
     "text": [
      "[9 70 129 65 6 73 122 9 44 50]\n"
     ]
    }
   ],
   "source": [
    "#Encode Column 6\n",
    "from sklearn import preprocessing\n",
    "le6 = preprocessing.LabelEncoder()\n",
    "le6.fit(dt[:,6])\n",
    "dt[:,6] = le6.transform(dt[:,6])\n",
    "print dt[0:10,6]"
   ]
  },
  {
   "cell_type": "code",
   "execution_count": 18,
   "metadata": {
    "collapsed": false
   },
   "outputs": [
    {
     "name": "stdout",
     "output_type": "stream",
     "text": [
      "[0 1 0 0 0 0 0 0 0 0]\n",
      "[0 0 0 0 0 1 0 0 0 0]\n",
      "[0 0 0 0 0 0 0 0 0 0]\n"
     ]
    }
   ],
   "source": [
    "#Encode Column20\n",
    "le20 = preprocessing.LabelEncoder()\n",
    "le20.fit(dt[:,20])\n",
    "dt[:,20] = le20.transform(dt[:,20])\n",
    "print dt[0:10,20]"
   ]
  },
  {
   "cell_type": "code",
   "execution_count": null,
   "metadata": {
    "collapsed": true
   },
   "outputs": [],
   "source": [
    "#Encode Column24\n",
    "le24 = preprocessing.LabelEncoder()\n",
    "le24.fit(dt[:,24])\n",
    "dt[:,24] = le24.transform(dt[:,24])\n",
    "print dt[0:10,24]\n"
   ]
  },
  {
   "cell_type": "code",
   "execution_count": null,
   "metadata": {
    "collapsed": true
   },
   "outputs": [],
   "source": [
    "#Encode Column25\n",
    "le25 = preprocessing.LabelEncoder()\n",
    "le25.fit(dt[:,25])\n",
    "dt[:,25] = le25.transform(dt[:,25])\n",
    "print dt[0:10,25]"
   ]
  },
  {
   "cell_type": "code",
   "execution_count": 23,
   "metadata": {
    "collapsed": false
   },
   "outputs": [
    {
     "name": "stdout",
     "output_type": "stream",
     "text": [
      "[0 0 0 0 0 0 0 0 0 0]\n"
     ]
    }
   ],
   "source": [
    "#Encode Column26\n",
    "le26 = preprocessing.LabelEncoder()\n",
    "le26.fit(dt[:,26])\n",
    "dt[:,26] = le26.transform(dt[:,26])\n",
    "print dt[0:10,26]"
   ]
  },
  {
   "cell_type": "code",
   "execution_count": 31,
   "metadata": {
    "collapsed": false
   },
   "outputs": [
    {
     "name": "stdout",
     "output_type": "stream",
     "text": [
      "[0 0 1 0 1 1 0 0 0 1]\n",
      "[0 0 0 0 1 0 0 0 0 0]\n",
      "[0 0 0 0 0 0 0 0 0 0]\n",
      "[0 0 0 0 0 0 0 0 0 0]\n",
      "[0 0 0 0 0 0 1 0 0 0]\n",
      "[0 0 0 0 0 0 0 0 0 0]\n",
      "[0 0 0 0 0 0 0 0 0 0]\n",
      "[0 0 0 0 1 0 0 0 0 0]\n"
     ]
    }
   ],
   "source": [
    "#Encode Column27 28 29 30 31 76 84 88\n",
    "le27 = preprocessing.LabelEncoder()\n",
    "le27.fit(dt[:,27])\n",
    "dt[:,27] = le27.transform(dt[:,27])\n",
    "dt[:,28] = le25.transform(dt[:,28])\n",
    "dt[:,29] = le25.transform(dt[:,29])\n",
    "dt[:,30] = le25.transform(dt[:,30])\n",
    "dt[:,31] = le25.transform(dt[:,31])\n",
    "dt[:,76] = le25.transform(dt[:,76])\n",
    "dt[:,84] = le25.transform(dt[:,84])\n",
    "dt[:,88] = le25.transform(dt[:,88])\n",
    "print dt[0:10,27]\n",
    "print dt[0:10,28]\n",
    "print dt[0:10,29]\n",
    "print dt[0:10,30]\n",
    "print dt[0:10,31]\n",
    "print dt[0:10,76]\n",
    "print dt[0:10,84]\n",
    "print dt[0:10,88]"
   ]
  },
  {
   "cell_type": "code",
   "execution_count": 34,
   "metadata": {
    "collapsed": false
   },
   "outputs": [
    {
     "name": "stdout",
     "output_type": "stream",
     "text": [
      "[1 0 3 1 0 3 3 1 3 4]\n"
     ]
    }
   ],
   "source": [
    "#Encode Column26\n",
    "le122 = preprocessing.LabelEncoder()\n",
    "le122.fit(dt[:,122])\n",
    "dt[:,122] = le122.transform(dt[:,122])\n",
    "print dt[0:10,122]"
   ]
  },
  {
   "cell_type": "code",
   "execution_count": 37,
   "metadata": {
    "collapsed": false
   },
   "outputs": [],
   "source": [
    "for i in range(dt.shape[0]):\n",
    "    for j in range(dt.shape[1]):\n",
    "        var = dt[i,j]\n",
    "        if (isinstance(var, str)):\n",
    "            print \"str\", (i,j)"
   ]
  },
  {
   "cell_type": "code",
   "execution_count": 27,
   "metadata": {
    "collapsed": false
   },
   "outputs": [
    {
     "name": "stdout",
     "output_type": "stream",
     "text": [
      "['no' 'no' 'no' 'no' 'yes' 'no' 'no' 'no' 'no' 'no']\n",
      "['no' 'no' 'no' 'no' 'no' 'no' 'no' 'no' 'no' 'no']\n",
      "['no' 'no' 'no' 'no' 'no' 'no' 'no' 'no' 'no' 'no']\n",
      "['no' 'no' 'no' 'no' 'no' 'no' 'yes' 'no' 'no' 'no']\n",
      "['no' 'no' 'no' 'no' 'no' 'no' 'no' 'no' 'no' 'no']\n",
      "['no' 'no' 'no' 'no' 'no' 'no' 'no' 'no' 'no' 'no']\n",
      "['no' 'no' 'no' 'no' 'yes' 'no' 'no' 'no' 'no' 'no']\n",
      "['good' 'excellent' 'poor' 'good' 'excellent' 'poor' 'poor' 'good' 'poor'\n",
      " 'satisfactory']\n"
     ]
    }
   ],
   "source": [
    "print dt[0:10,28]\n",
    "print dt[0:10,29]\n",
    "print dt[0:10,30]\n",
    "print dt[0:10,31]\n",
    "print dt[0:10,76]\n",
    "print dt[0:10,84]\n",
    "print dt[0:10,88]\n",
    "print dt[0:10,122]\n"
   ]
  },
  {
   "cell_type": "code",
   "execution_count": 39,
   "metadata": {
    "collapsed": false
   },
   "outputs": [],
   "source": [
    "np.save('../data/PreProcessData.npy',dt)"
   ]
  },
  {
   "cell_type": "code",
   "execution_count": null,
   "metadata": {
    "collapsed": true
   },
   "outputs": [],
   "source": []
  }
 ],
 "metadata": {
  "kernelspec": {
   "display_name": "Python 2",
   "language": "python",
   "name": "python2"
  },
  "language_info": {
   "codemirror_mode": {
    "name": "ipython",
    "version": 2
   },
   "file_extension": ".py",
   "mimetype": "text/x-python",
   "name": "python",
   "nbconvert_exporter": "python",
   "pygments_lexer": "ipython2",
   "version": "2.7.6"
  }
 },
 "nbformat": 4,
 "nbformat_minor": 1
}
