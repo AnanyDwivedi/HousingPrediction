{
 "cells": [
  {
   "cell_type": "code",
   "execution_count": 1,
   "metadata": {
    "collapsed": false
   },
   "outputs": [],
   "source": [
    "import numpy as np\n",
    "data = np.load('../data/NAN_Remove_test.npy')"
   ]
  },
  {
   "cell_type": "code",
   "execution_count": 2,
   "metadata": {
    "collapsed": false
   },
   "outputs": [
    {
     "data": {
      "text/plain": [
       "False"
      ]
     },
     "execution_count": 2,
     "metadata": {},
     "output_type": "execute_result"
    }
   ],
   "source": [
    "isinstance(data[:,1], str)"
   ]
  },
  {
   "cell_type": "code",
   "execution_count": 3,
   "metadata": {
    "collapsed": false
   },
   "outputs": [
    {
     "name": "stdout",
     "output_type": "stream",
     "text": [
      "[[30474 '2015-07-01' 39.0 ..., 0 14 1]\n",
      " [30475 '2015-07-01' 79.2 ..., 1 12 1]\n",
      " [30476 '2015-07-01' 40.5 ..., 10 71 11]\n",
      " ..., \n",
      " [38133 '2016-05-30' 41.08 ..., 105 203 13]\n",
      " [38134 '2016-05-30' 34.8 ..., 2 43 10]\n",
      " [38135 '2016-05-30' 63.0 ..., 4 42 11]]\n",
      "2015\n",
      "07\n",
      "01\n"
     ]
    }
   ],
   "source": [
    "print data\n",
    "temp = data[1,1]\n",
    "print temp[0:4]\n",
    "print temp[5:7]\n",
    "print temp[8:10]"
   ]
  },
  {
   "cell_type": "code",
   "execution_count": 4,
   "metadata": {
    "collapsed": false
   },
   "outputs": [
    {
     "name": "stdout",
     "output_type": "stream",
     "text": [
      "(7662, 1)\n",
      "(7662, 245) (7662, 1)\n"
     ]
    }
   ],
   "source": [
    "#Change date format\n",
    "year = np.zeros((data.shape[0],1))\n",
    "month = np.zeros((data.shape[0],1))\n",
    "day = np.zeros((data.shape[0],1))\n",
    "dt = np.zeros((data.shape[0],1))\n",
    "for i in range(data.shape[0]):\n",
    "    temp = data[i,1]\n",
    "    year[i] = temp[0:4]\n",
    "    month[i] = temp[5:7]\n",
    "    day[i] = temp[8:10]\n",
    "print year.shape \n",
    "idx = data[:,0]\n",
    "idx = np.reshape(idx,(idx.shape[0],1))\n",
    "RestData = data[:,2:data.shape[1]]\n",
    "dt = np.concatenate((idx,year,month,day,RestData),1)\n",
    "print dt.shape,idx.shape"
   ]
  },
  {
   "cell_type": "code",
   "execution_count": 5,
   "metadata": {
    "collapsed": false
   },
   "outputs": [
    {
     "name": "stdout",
     "output_type": "stream",
     "text": [
      "0\n"
     ]
    }
   ],
   "source": [
    "#Encode column 5\n",
    "j = 0\n",
    "for i in range(dt.shape[0]):\n",
    "    if dt[i,5] == 'Investment':\n",
    "        dt[i,5] = 1\n",
    "        j +=1\n",
    "    elif dt[i,5] == 'OwnerOccupier':\n",
    "        dt[i,5] = 2\n",
    "        j +=1\n",
    "print j\n",
    "\n"
   ]
  },
  {
   "cell_type": "code",
   "execution_count": 9,
   "metadata": {
    "collapsed": false
   },
   "outputs": [
    {
     "name": "stdout",
     "output_type": "stream",
     "text": [
      "[9 70 129 65 6 73 122 9 44 50]\n"
     ]
    }
   ],
   "source": [
    "#Encode Column 6\n",
    "from sklearn import preprocessing\n",
    "le6 = preprocessing.LabelEncoder()\n",
    "le6.fit(dt[:,6])\n",
    "dt[:,6] = le6.transform(dt[:,6])\n",
    "print dt[0:10,6]"
   ]
  },
  {
   "cell_type": "code",
   "execution_count": 18,
   "metadata": {
    "collapsed": false
   },
   "outputs": [
    {
     "name": "stdout",
     "output_type": "stream",
     "text": [
      "[0 1 0 0 0 0 0 0 0 0]\n",
      "[0 0 0 0 0 1 0 0 0 0]\n",
      "[0 0 0 0 0 0 0 0 0 0]\n"
     ]
    }
   ],
   "source": [
    "#Encode Column20\n",
    "le20 = preprocessing.LabelEncoder()\n",
    "le20.fit(dt[:,20])\n",
    "dt[:,20] = le20.transform(dt[:,20])\n",
    "print dt[0:10,20]"
   ]
  },
  {
   "cell_type": "code",
   "execution_count": null,
   "metadata": {
    "collapsed": true
   },
   "outputs": [],
   "source": [
    "#Encode Column24\n",
    "le24 = preprocessing.LabelEncoder()\n",
    "le24.fit(dt[:,24])\n",
    "dt[:,24] = le24.transform(dt[:,24])\n",
    "print dt[0:10,24]\n"
   ]
  },
  {
   "cell_type": "code",
   "execution_count": null,
   "metadata": {
    "collapsed": true
   },
   "outputs": [],
   "source": [
    "#Encode Column25\n",
    "le25 = preprocessing.LabelEncoder()\n",
    "le25.fit(dt[:,25])\n",
    "dt[:,25] = le25.transform(dt[:,25])\n",
    "print dt[0:10,25]"
   ]
  },
  {
   "cell_type": "code",
   "execution_count": 23,
   "metadata": {
    "collapsed": false
   },
   "outputs": [
    {
     "name": "stdout",
     "output_type": "stream",
     "text": [
      "[0 0 0 0 0 0 0 0 0 0]\n"
     ]
    }
   ],
   "source": [
    "#Encode Column26\n",
    "le26 = preprocessing.LabelEncoder()\n",
    "le26.fit(dt[:,26])\n",
    "dt[:,26] = le26.transform(dt[:,26])\n",
    "print dt[0:10,26]"
   ]
  },
  {
   "cell_type": "code",
   "execution_count": 31,
   "metadata": {
    "collapsed": false
   },
   "outputs": [
    {
     "name": "stdout",
     "output_type": "stream",
     "text": [
      "[0 0 1 0 1 1 0 0 0 1]\n",
      "[0 0 0 0 1 0 0 0 0 0]\n",
      "[0 0 0 0 0 0 0 0 0 0]\n",
      "[0 0 0 0 0 0 0 0 0 0]\n",
      "[0 0 0 0 0 0 1 0 0 0]\n",
      "[0 0 0 0 0 0 0 0 0 0]\n",
      "[0 0 0 0 0 0 0 0 0 0]\n",
      "[0 0 0 0 1 0 0 0 0 0]\n"
     ]
    }
   ],
   "source": [
    "#Encode Column27 28 29 30 31 76 84 88\n",
    "le27 = preprocessing.LabelEncoder()\n",
    "le27.fit(dt[:,27])\n",
    "dt[:,27] = le27.transform(dt[:,27])\n",
    "dt[:,28] = le25.transform(dt[:,28])\n",
    "dt[:,29] = le25.transform(dt[:,29])\n",
    "dt[:,30] = le25.transform(dt[:,30])\n",
    "dt[:,31] = le25.transform(dt[:,31])\n",
    "dt[:,76] = le25.transform(dt[:,76])\n",
    "dt[:,84] = le25.transform(dt[:,84])\n",
    "dt[:,88] = le25.transform(dt[:,88])\n",
    "print dt[0:10,27]\n",
    "print dt[0:10,28]\n",
    "print dt[0:10,29]\n",
    "print dt[0:10,30]\n",
    "print dt[0:10,31]\n",
    "print dt[0:10,76]\n",
    "print dt[0:10,84]\n",
    "print dt[0:10,88]"
   ]
  },
  {
   "cell_type": "code",
   "execution_count": 34,
   "metadata": {
    "collapsed": false
   },
   "outputs": [
    {
     "name": "stdout",
     "output_type": "stream",
     "text": [
      "[1 0 3 1 0 3 3 1 3 4]\n"
     ]
    }
   ],
   "source": [
    "#Encode Column26\n",
    "le122 = preprocessing.LabelEncoder()\n",
    "le122.fit(dt[:,122])\n",
    "dt[:,122] = le122.transform(dt[:,122])\n",
    "print dt[0:10,122]"
   ]
  },
  {
   "cell_type": "code",
   "execution_count": 6,
   "metadata": {
    "collapsed": false
   },
   "outputs": [
    {
     "name": "stdout",
     "output_type": "stream",
     "text": [
      "str (0, 10)\n",
      "str (0, 24)\n",
      "str (0, 28)\n",
      "str (0, 29)\n",
      "str (0, 30)\n",
      "str (0, 31)\n",
      "str (0, 32)\n",
      "str (0, 33)\n",
      "str (0, 34)\n",
      "str (0, 35)\n",
      "str (0, 80)\n",
      "str (0, 88)\n",
      "str (0, 92)\n",
      "str (0, 126)\n"
     ]
    }
   ],
   "source": [
    "for i in range(1):\n",
    "    for j in range(dt.shape[1]):\n",
    "        var = dt[i,j]\n",
    "        if (isinstance(var, str)):\n",
    "            print \"str\", (i,j)"
   ]
  },
  {
   "cell_type": "code",
   "execution_count": 7,
   "metadata": {
    "collapsed": false
   },
   "outputs": [
    {
     "name": "stdout",
     "output_type": "stream",
     "text": [
      "['Juzhnoe Butovo' 'Poselenie Vnukovskoe' 'Perovo' 'Poselenie Voskresenskoe'\n",
      " 'Poselenie Vnukovskoe' 'Filevskij Park' 'Solncevo' 'Poselenie Sosenskoe'\n",
      " 'Vnukovo' 'Poselenie Vnukovskoe']\n",
      "['no' 'no' 'no' 'no' 'no' 'no' 'no' 'no' 'no' 'no']\n",
      "['no' 'no' 'yes' 'no' 'no' 'no' 'no' 'no' 'no' 'no']\n",
      "['no' 'no' 'yes' 'no' 'no' 'yes' 'no' 'no' 'no' 'no']\n",
      "[39 24 59 39 24 14 34 105 19 118]\n",
      "[24.07970721 20.86442659 8.67108556 26.22604543 21.03856121 5.574358192\n",
      " 16.10136105 19.6032973 23.58910384 23.11817841]\n",
      "['no' 'no' 'no' 'no' 'no' 'no' 'no' 'no' 'no' 'no']\n",
      "[19.95341267 13.00610746 2.9838746460000003 18.12121993 13.45959327\n",
      " 2.7957909410000004 8.634607397 10.42324316 15.3522671 20.21555842]\n"
     ]
    }
   ],
   "source": [
    "print dt[0:10,10]\n",
    "print dt[0:10,29]\n",
    "print dt[0:10,30]\n",
    "print dt[0:10,31]\n",
    "print dt[0:10,76]\n",
    "print dt[0:10,84]\n",
    "print dt[0:10,88]\n",
    "print dt[0:10,122]\n"
   ]
  },
  {
   "cell_type": "code",
   "execution_count": 39,
   "metadata": {
    "collapsed": false
   },
   "outputs": [],
   "source": [
    "np.save('../data/PreProcessData.npy',dt)"
   ]
  },
  {
   "cell_type": "code",
   "execution_count": null,
   "metadata": {
    "collapsed": true
   },
   "outputs": [],
   "source": []
  }
 ],
 "metadata": {
  "kernelspec": {
   "display_name": "Python 2",
   "language": "python",
   "name": "python2"
  },
  "language_info": {
   "codemirror_mode": {
    "name": "ipython",
    "version": 2
   },
   "file_extension": ".py",
   "mimetype": "text/x-python",
   "name": "python",
   "nbconvert_exporter": "python",
   "pygments_lexer": "ipython2",
   "version": "2.7.6"
  }
 },
 "nbformat": 4,
 "nbformat_minor": 1
}
