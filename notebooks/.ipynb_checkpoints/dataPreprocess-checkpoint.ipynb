{
 "cells": [
  {
   "cell_type": "code",
   "execution_count": 2,
   "metadata": {
    "collapsed": false
   },
   "outputs": [],
   "source": [
    "import numpy as np\n",
    "data = np.load('../data/NAN_Remove_train.npy')"
   ]
  },
  {
   "cell_type": "code",
   "execution_count": 3,
   "metadata": {
    "collapsed": false
   },
   "outputs": [
    {
     "data": {
      "text/plain": [
       "False"
      ]
     },
     "execution_count": 3,
     "metadata": {},
     "output_type": "execute_result"
    }
   ],
   "source": [
    "isinstance(data[:,1], str)"
   ]
  },
  {
   "cell_type": "code",
   "execution_count": 4,
   "metadata": {
    "collapsed": false
   },
   "outputs": [
    {
     "name": "stdout",
     "output_type": "stream",
     "text": [
      "[[1 '2011-08-20' 43 ..., 52 4 5850000]\n",
      " [2 '2011-08-23' 34 ..., 66 14 6000000]\n",
      " [3 '2011-08-27' 43 ..., 67 10 5700000]\n",
      " ..., \n",
      " [30471 '2015-06-30' 45 ..., 11 1 6970959]\n",
      " [30472 '2015-06-30' 64 ..., 65 7 13500000]\n",
      " [30473 '2015-06-30' 43 ..., 54 10 5600000]]\n",
      "2011\n",
      "08\n",
      "23\n"
     ]
    }
   ],
   "source": [
    "print data\n",
    "temp = data[1,1]\n",
    "print temp[0:4]\n",
    "print temp[5:7]\n",
    "print temp[8:10]"
   ]
  },
  {
   "cell_type": "code",
   "execution_count": 5,
   "metadata": {
    "collapsed": false
   },
   "outputs": [
    {
     "name": "stdout",
     "output_type": "stream",
     "text": [
      "(30471, 1)\n",
      "(30471, 243) (30471, 1)\n"
     ]
    }
   ],
   "source": [
    "#Change date format\n",
    "year = np.zeros((data.shape[0],1))\n",
    "month = np.zeros((data.shape[0],1))\n",
    "day = np.zeros((data.shape[0],1))\n",
    "dt = np.zeros((data.shape[0],1))\n",
    "for i in range(data.shape[0]):\n",
    "    temp = data[i,1]\n",
    "    year[i] = temp[0:4]\n",
    "    month[i] = temp[5:7]\n",
    "    day[i] = temp[8:10]\n",
    "print year.shape \n",
    "idx = data[:,0]\n",
    "idx = np.reshape(idx,(idx.shape[0],1))\n",
    "RestData = data[:,2:data.shape[1]]\n",
    "dt = np.concatenate((idx,year,month,day,RestData),1)\n",
    "print dt.shape,idx.shape"
   ]
  },
  {
   "cell_type": "code",
   "execution_count": 6,
   "metadata": {
    "collapsed": false
   },
   "outputs": [
    {
     "name": "stdout",
     "output_type": "stream",
     "text": [
      "30471\n"
     ]
    }
   ],
   "source": [
    "#Encode column 5\n",
    "j = 0\n",
    "for i in range(dt.shape[0]):\n",
    "    if dt[i,5] == 'Investment':\n",
    "        dt[i,5] = 1\n",
    "        j +=1\n",
    "    elif dt[i,5] == 'OwnerOccupier':\n",
    "        dt[i,5] = 2\n",
    "        j +=1\n",
    "print j\n",
    "\n"
   ]
  },
  {
   "cell_type": "code",
   "execution_count": 16,
   "metadata": {
    "collapsed": false
   },
   "outputs": [],
   "source": [
    "#Encode Column 6\n",
    "from sklearn import preprocessing\n",
    "le6 = preprocessing.LabelEncoder()\n",
    "le6.fit(dt[:,6])\n",
    "dt[:,6] = le6.transform(dt[:,6])\n",
    "#print dt[0:10,6]"
   ]
  },
  {
   "cell_type": "code",
   "execution_count": 17,
   "metadata": {
    "collapsed": false
   },
   "outputs": [
    {
     "name": "stdout",
     "output_type": "stream",
     "text": [
      "[0 1 0 0 0 0 0 0 0 0]\n"
     ]
    }
   ],
   "source": [
    "#Encode Column20\n",
    "le20 = preprocessing.LabelEncoder()\n",
    "le20.fit(dt[:,20])\n",
    "dt[:,20] = le20.transform(dt[:,20])\n",
    "print dt[0:10,20]"
   ]
  },
  {
   "cell_type": "code",
   "execution_count": 13,
   "metadata": {
    "collapsed": false
   },
   "outputs": [
    {
     "name": "stdout",
     "output_type": "stream",
     "text": [
      "str (0, 20)\n",
      "str (0, 24)\n",
      "str (0, 25)\n",
      "str (0, 26)\n",
      "str (0, 27)\n",
      "str (0, 28)\n",
      "str (0, 29)\n",
      "str (0, 30)\n",
      "str (0, 31)\n",
      "str (0, 76)\n",
      "str (0, 84)\n",
      "str (0, 88)\n",
      "str (0, 122)\n"
     ]
    }
   ],
   "source": [
    "j=6\n",
    "for i in range(1):\n",
    "    for j in range(dt.shape[1]):\n",
    "        var = dt[i,j]\n",
    "        if (isinstance(var, str)):\n",
    "            print \"str\", (i,j)"
   ]
  },
  {
   "cell_type": "code",
   "execution_count": 14,
   "metadata": {
    "collapsed": false
   },
   "outputs": [
    {
     "name": "stdout",
     "output_type": "stream",
     "text": [
      "['no' 'yes' 'no' 'no' 'no' 'no' 'no' 'no' 'no' 'no']\n"
     ]
    }
   ],
   "source": [
    "print dt[0:10,20]"
   ]
  },
  {
   "cell_type": "code",
   "execution_count": null,
   "metadata": {
    "collapsed": true
   },
   "outputs": [],
   "source": []
  }
 ],
 "metadata": {
  "kernelspec": {
   "display_name": "Python 2",
   "language": "python",
   "name": "python2"
  },
  "language_info": {
   "codemirror_mode": {
    "name": "ipython",
    "version": 2
   },
   "file_extension": ".py",
   "mimetype": "text/x-python",
   "name": "python",
   "nbconvert_exporter": "python",
   "pygments_lexer": "ipython2",
   "version": "2.7.6"
  }
 },
 "nbformat": 4,
 "nbformat_minor": 1
}
