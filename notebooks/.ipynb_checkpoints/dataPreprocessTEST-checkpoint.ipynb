{
 "cells": [
  {
   "cell_type": "code",
   "execution_count": 1,
   "metadata": {
    "collapsed": false
   },
   "outputs": [],
   "source": [
    "import numpy as np\n",
    "from sklearn import preprocessing\n",
    "\n",
    "data = np.load('../data/NAN_Remove_test.npy')"
   ]
  },
  {
   "cell_type": "code",
   "execution_count": 2,
   "metadata": {
    "collapsed": false
   },
   "outputs": [
    {
     "data": {
      "text/plain": [
       "False"
      ]
     },
     "execution_count": 2,
     "metadata": {},
     "output_type": "execute_result"
    }
   ],
   "source": [
    "isinstance(data[:,1], str)"
   ]
  },
  {
   "cell_type": "code",
   "execution_count": 3,
   "metadata": {
    "collapsed": false
   },
   "outputs": [
    {
     "name": "stdout",
     "output_type": "stream",
     "text": [
      "[[30474 '2015-07-01' 39.0 ..., 0 14 1]\n",
      " [30475 '2015-07-01' 79.2 ..., 1 12 1]\n",
      " [30476 '2015-07-01' 40.5 ..., 10 71 11]\n",
      " ..., \n",
      " [38133 '2016-05-30' 41.08 ..., 105 203 13]\n",
      " [38134 '2016-05-30' 34.8 ..., 2 43 10]\n",
      " [38135 '2016-05-30' 63.0 ..., 4 42 11]]\n",
      "2015\n",
      "07\n",
      "01\n"
     ]
    }
   ],
   "source": [
    "print data\n",
    "temp = data[1,1]\n",
    "print temp[0:4]\n",
    "print temp[5:7]\n",
    "print temp[8:10]"
   ]
  },
  {
   "cell_type": "code",
   "execution_count": 4,
   "metadata": {
    "collapsed": false
   },
   "outputs": [
    {
     "name": "stdout",
     "output_type": "stream",
     "text": [
      "(7662, 1)\n",
      "(7662, 240) (7662, 1)\n"
     ]
    }
   ],
   "source": [
    "#Change date format\n",
    "year = np.zeros((data.shape[0],1))\n",
    "month = np.zeros((data.shape[0],1))\n",
    "day = np.zeros((data.shape[0],1))\n",
    "dt = np.zeros((data.shape[0],1))\n",
    "for i in range(data.shape[0]):\n",
    "    temp = data[i,1]\n",
    "    year[i] = temp[0:4]\n",
    "    month[i] = temp[5:7]\n",
    "    day[i] = temp[8:10]\n",
    "print year.shape \n",
    "idx = data[:,0]\n",
    "idx = np.reshape(idx,(idx.shape[0],1))\n",
    "RestData = data[:,2:data.shape[1]]\n",
    "dt = np.concatenate((idx,year,month,day,RestData),1)\n",
    "print dt.shape,idx.shape"
   ]
  },
  {
   "cell_type": "code",
   "execution_count": 6,
   "metadata": {
    "collapsed": false
   },
   "outputs": [
    {
     "name": "stdout",
     "output_type": "stream",
     "text": [
      "[38 102 84 104 102 24 123 101 135 102]\n",
      "[0 0 0 0 0 0 0 0 0 0]\n",
      "[0 0 1 0 0 0 0 0 0 0]\n",
      "[0 0 0 0 0 0 0 0 0 0]\n",
      "[0 0 1 0 0 0 0 0 0 0]\n",
      "[0 0 1 0 0 1 0 0 0 0]\n",
      "[0 0 0 0 0 0 0 0 0 0]\n",
      "[0 0 0 0 0 0 0 1 0 0]\n",
      "[0 0 0 0 0 0 0 0 0 0]\n",
      "[0 0 0 0 0 0 0 0 0 0]\n",
      "[0 0 0 0 0 0 0 0 0 0]\n",
      "[0 0 0 0 0 0 0 0 0 0]\n",
      "[0 0 0 0 0 1 0 0 0 0]\n",
      "[4 2 3 2 2 4 1 2 2 2]\n"
     ]
    }
   ],
   "source": [
    "#Encode Column5\n",
    "le5 = preprocessing.LabelEncoder()\n",
    "le5.fit(dt[:,5])\n",
    "dt[:,5] = le5.transform(dt[:,5])\n",
    "print dt[0:10,5]\n",
    "\n",
    "#Encode Column19\n",
    "le19 = preprocessing.LabelEncoder()\n",
    "le19.fit(dt[:,19])\n",
    "dt[:,19] = le19.transform(dt[:,19])\n",
    "print dt[0:10,19]\n",
    "\n",
    "#Encode Column23\n",
    "le23 = preprocessing.LabelEncoder()\n",
    "le23.fit(dt[:,23])\n",
    "dt[:,23] = le23.transform(dt[:,23])\n",
    "print dt[0:10,23]\n",
    "\n",
    "#Encode Column24\n",
    "le24 = preprocessing.LabelEncoder()\n",
    "le24.fit(dt[:,24])\n",
    "dt[:,24] = le24.transform(dt[:,24])\n",
    "print dt[0:10,24]\n",
    "\n",
    "#Encode Column25\n",
    "le25 = preprocessing.LabelEncoder()\n",
    "le25.fit(dt[:,25])\n",
    "dt[:,25] = le25.transform(dt[:,25])\n",
    "print dt[0:10,25]\n",
    "\n",
    "#Encode Column26\n",
    "le26 = preprocessing.LabelEncoder()\n",
    "le26.fit(dt[:,26])\n",
    "dt[:,26] = le26.transform(dt[:,26])\n",
    "print dt[0:10,26]\n",
    "\n",
    "#Encode Column27\n",
    "le27 = preprocessing.LabelEncoder()\n",
    "le27.fit(dt[:,27])\n",
    "dt[:,27] = le27.transform(dt[:,27])\n",
    "print dt[0:10,27]\n",
    "\n",
    "#Encode Column28\n",
    "le28 = preprocessing.LabelEncoder()\n",
    "le28.fit(dt[:,28])\n",
    "dt[:,28] = le28.transform(dt[:,28])\n",
    "print dt[0:10,28]\n",
    "\n",
    "#Encode Column29\n",
    "le29 = preprocessing.LabelEncoder()\n",
    "le29.fit(dt[:,29])\n",
    "dt[:,29] = le29.transform(dt[:,29])\n",
    "print dt[0:10,29]\n",
    "\n",
    "#Encode Column30\n",
    "le30 = preprocessing.LabelEncoder()\n",
    "le30.fit(dt[:,30])\n",
    "dt[:,30] = le30.transform(dt[:,30])\n",
    "print dt[0:10,30]\n",
    "\n",
    "#Encode Column75\n",
    "le75 = preprocessing.LabelEncoder()\n",
    "le75.fit(dt[:,75])\n",
    "dt[:,75] = le75.transform(dt[:,75])\n",
    "print dt[0:10,75]\n",
    "\n",
    "#Encode Column83\n",
    "le83 = preprocessing.LabelEncoder()\n",
    "le83.fit(dt[:,83])\n",
    "dt[:,83] = le83.transform(dt[:,83])\n",
    "print dt[0:10,83]\n",
    "\n",
    "#Encode Column87\n",
    "le87 = preprocessing.LabelEncoder()\n",
    "le87.fit(dt[:,87])\n",
    "dt[:,87] = le87.transform(dt[:,87])\n",
    "print dt[0:10,87]\n",
    "\n",
    "#Encode Column121\n",
    "le121 = preprocessing.LabelEncoder()\n",
    "le121.fit(dt[:,121])\n",
    "dt[:,121] = le121.transform(dt[:,121])\n",
    "print dt[0:10,121]\n",
    "\n",
    "\n"
   ]
  },
  {
   "cell_type": "code",
   "execution_count": 7,
   "metadata": {
    "collapsed": false
   },
   "outputs": [],
   "source": [
    "for i in range(1):#dt.shape[0]):\n",
    "    for j in range(dt.shape[1]):\n",
    "        var = dt[i,j]\n",
    "        if (isinstance(var, str)):\n",
    "            print \"str\", (i,j)"
   ]
  },
  {
   "cell_type": "code",
   "execution_count": 27,
   "metadata": {
    "collapsed": false
   },
   "outputs": [
    {
     "name": "stdout",
     "output_type": "stream",
     "text": [
      "['no' 'no' 'no' 'no' 'yes' 'no' 'no' 'no' 'no' 'no']\n",
      "['no' 'no' 'no' 'no' 'no' 'no' 'no' 'no' 'no' 'no']\n",
      "['no' 'no' 'no' 'no' 'no' 'no' 'no' 'no' 'no' 'no']\n",
      "['no' 'no' 'no' 'no' 'no' 'no' 'yes' 'no' 'no' 'no']\n",
      "['no' 'no' 'no' 'no' 'no' 'no' 'no' 'no' 'no' 'no']\n",
      "['no' 'no' 'no' 'no' 'no' 'no' 'no' 'no' 'no' 'no']\n",
      "['no' 'no' 'no' 'no' 'yes' 'no' 'no' 'no' 'no' 'no']\n",
      "['good' 'excellent' 'poor' 'good' 'excellent' 'poor' 'poor' 'good' 'poor'\n",
      " 'satisfactory']\n"
     ]
    }
   ],
   "source": [
    "print dt[0:10,28]\n",
    "print dt[0:10,29]\n",
    "print dt[0:10,30]\n",
    "print dt[0:10,31]\n",
    "print dt[0:10,76]\n",
    "print dt[0:10,84]\n",
    "print dt[0:10,88]\n",
    "print dt[0:10,122]\n"
   ]
  },
  {
   "cell_type": "code",
   "execution_count": 8,
   "metadata": {
    "collapsed": false
   },
   "outputs": [],
   "source": [
    "np.save('../data/PreProcessDataTest.npy',dt)"
   ]
  },
  {
   "cell_type": "code",
   "execution_count": null,
   "metadata": {
    "collapsed": true
   },
   "outputs": [],
   "source": []
  },
  {
   "cell_type": "code",
   "execution_count": 8,
   "metadata": {
    "collapsed": false
   },
   "outputs": [
    {
     "name": "stdout",
     "output_type": "stream",
     "text": [
      "0\n",
      "[1 2011.0 8.0 20.0 43.0 'Bibirevo' 6407578.1 155572 0.189727117 6.99893e-05]\n"
     ]
    }
   ],
   "source": [
    "#Encode column 5\n",
    "j = 0\n",
    "for i in range(dt.shape[0]):\n",
    "    if dt[i,5] == 'Investment':\n",
    "        dt[i,5] = 1\n",
    "        j +=1\n",
    "    elif dt[i,5] == 'OwnerOccupier':\n",
    "        dt[i,5] = 2\n",
    "        j +=1\n",
    "print j\n",
    "print dt[0,0:10]\n",
    "\n"
   ]
  }
 ],
 "metadata": {
  "kernelspec": {
   "display_name": "Python [Root]",
   "language": "python",
   "name": "Python [Root]"
  },
  "language_info": {
   "codemirror_mode": {
    "name": "ipython",
    "version": 2
   },
   "file_extension": ".py",
   "mimetype": "text/x-python",
   "name": "python",
   "nbconvert_exporter": "python",
   "pygments_lexer": "ipython2",
   "version": "2.7.12"
  }
 },
 "nbformat": 4,
 "nbformat_minor": 1
}
