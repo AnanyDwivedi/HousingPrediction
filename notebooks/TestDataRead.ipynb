{
 "cells": [
  {
   "cell_type": "code",
   "execution_count": 1,
   "metadata": {
    "collapsed": false
   },
   "outputs": [
    {
     "name": "stderr",
     "output_type": "stream",
     "text": [
      "/usr/local/lib/python2.7/dist-packages/IPython/html.py:14: ShimWarning: The `IPython.html` package has been deprecated. You should import from `notebook` instead. `IPython.html.widgets` has moved to `ipywidgets`.\n",
      "  \"`IPython.html.widgets` has moved to `ipywidgets`.\", ShimWarning)\n"
     ]
    }
   ],
   "source": [
    "import pandas as pd\n",
    "import sklearn.preprocessing as pre\n",
    "import xgboost as xgb\n",
    "import matplotlib.pyplot as plt\n",
    "import seaborn as sns\n",
    "import numpy as np"
   ]
  },
  {
   "cell_type": "code",
   "execution_count": 2,
   "metadata": {
    "collapsed": true
   },
   "outputs": [],
   "source": [
    "#Read data into the training set\n",
    "train_data = pd.read_csv(\"../data/test.csv\")"
   ]
  },
  {
   "cell_type": "code",
   "execution_count": 3,
   "metadata": {
    "collapsed": false
   },
   "outputs": [
    {
     "name": "stdout",
     "output_type": "stream",
     "text": [
      "(7662, 291)\n"
     ]
    }
   ],
   "source": [
    "print train_data.shape"
   ]
  },
  {
   "cell_type": "code",
   "execution_count": 4,
   "metadata": {
    "collapsed": false
   },
   "outputs": [
    {
     "name": "stdout",
     "output_type": "stream",
     "text": [
      "                                       Total  Percentage\n",
      "hospital_beds_raion                     3418    0.446098\n",
      "cafe_sum_500_min_price_avg              3159    0.412294\n",
      "cafe_avg_price_500                      3159    0.412294\n",
      "cafe_sum_500_max_price_avg              3159    0.412294\n",
      "preschool_quota                         1596    0.208301\n",
      "school_quota                            1595    0.208170\n",
      "cafe_sum_1000_min_price_avg             1222    0.159488\n",
      "cafe_sum_1000_max_price_avg             1222    0.159488\n",
      "cafe_avg_price_1000                     1222    0.159488\n",
      "build_count_1946-1970                   1218    0.158966\n",
      "build_count_before_1920                 1218    0.158966\n",
      "build_count_1921-1945                   1218    0.158966\n",
      "build_count_mix                         1218    0.158966\n",
      "build_count_1971-1995                   1218    0.158966\n",
      "build_count_block                       1218    0.158966\n",
      "raion_build_count_with_builddate_info   1218    0.158966\n",
      "raion_build_count_with_material_info    1218    0.158966\n",
      "build_count_after_1995                  1218    0.158966\n",
      "build_count_wood                        1218    0.158966\n",
      "build_count_brick                       1218    0.158966\n",
      "build_count_monolith                    1218    0.158966\n",
      "build_count_panel                       1218    0.158966\n",
      "build_count_slag                        1218    0.158966\n",
      "build_count_foam                        1218    0.158966\n",
      "build_count_frame                       1218    0.158966\n",
      "life_sq                                 1176    0.153485\n",
      "build_year                              1049    0.136909\n",
      "cafe_avg_price_1500                      821    0.107152\n",
      "cafe_sum_1500_min_price_avg              821    0.107152\n",
      "cafe_sum_1500_max_price_avg              821    0.107152\n",
      "...                                      ...         ...\n",
      "cafe_count_1500                            0    0.000000\n",
      "trc_sqm_1500                               0    0.000000\n",
      "trc_count_1500                             0    0.000000\n",
      "office_sqm_1500                            0    0.000000\n",
      "office_count_1500                          0    0.000000\n",
      "prom_part_1500                             0    0.000000\n",
      "green_part_1500                            0    0.000000\n",
      "market_count_1000                          0    0.000000\n",
      "sport_count_1000                           0    0.000000\n",
      "leisure_count_1000                         0    0.000000\n",
      "mosque_count_1000                          0    0.000000\n",
      "church_count_1000                          0    0.000000\n",
      "big_church_count_1000                      0    0.000000\n",
      "cafe_count_1000_price_4000                 0    0.000000\n",
      "leisure_count_500                          0    0.000000\n",
      "cafe_count_1000_price_2500                 0    0.000000\n",
      "cafe_count_1000_price_1500                 0    0.000000\n",
      "cafe_count_1000_price_1000                 0    0.000000\n",
      "cafe_count_1000_price_500                  0    0.000000\n",
      "cafe_count_1000_na_price                   0    0.000000\n",
      "cafe_count_1000                            0    0.000000\n",
      "trc_sqm_1000                               0    0.000000\n",
      "trc_count_1000                             0    0.000000\n",
      "office_sqm_1000                            0    0.000000\n",
      "office_count_1000                          0    0.000000\n",
      "prom_part_1000                             0    0.000000\n",
      "green_part_1000                            0    0.000000\n",
      "market_count_500                           0    0.000000\n",
      "sport_count_500                            0    0.000000\n",
      "id                                         0    0.000000\n",
      "\n",
      "[291 rows x 2 columns]\n"
     ]
    }
   ],
   "source": [
    "#Trying to identify NaN values in the variables\n",
    "total = train_data.isnull().sum().sort_values(ascending = False)\n",
    "percent = (train_data.isnull().sum()/train_data.isnull().count()).sort_values(ascending = False)\n",
    "missing_data = pd.concat([total,percent],axis=1,keys = [\"Total\",\"Percentage\"])\n",
    "print(missing_data)"
   ]
  },
  {
   "cell_type": "code",
   "execution_count": 5,
   "metadata": {
    "collapsed": false
   },
   "outputs": [
    {
     "name": "stdout",
     "output_type": "stream",
     "text": [
      "(7662, 243)\n"
     ]
    }
   ],
   "source": [
    "#Delete all NaN values for now\n",
    "train_data = train_data.drop(missing_data[missing_data[\"Total\"]>0].index,1)\n",
    "print train_data.shape"
   ]
  },
  {
   "cell_type": "code",
   "execution_count": 6,
   "metadata": {
    "collapsed": false
   },
   "outputs": [
    {
     "name": "stdout",
     "output_type": "stream",
     "text": [
      "[0 1 10 0 1 13 3 0 0]\n"
     ]
    }
   ],
   "source": [
    "t = train_data.values\n",
    "print t[0:9,240]"
   ]
  },
  {
   "cell_type": "code",
   "execution_count": 7,
   "metadata": {
    "collapsed": true
   },
   "outputs": [],
   "source": [
    "np.save('../data/NAN_Remove_test.npy',t)"
   ]
  },
  {
   "cell_type": "code",
   "execution_count": 17,
   "metadata": {
    "collapsed": false
   },
   "outputs": [
    {
     "name": "stdout",
     "output_type": "stream",
     "text": [
      "[5850000 6000000 5700000 13100000 16331452 9100000 5500000 2000000 5300000]\n"
     ]
    }
   ],
   "source": []
  },
  {
   "cell_type": "raw",
   "metadata": {},
   "source": []
  }
 ],
 "metadata": {
  "kernelspec": {
   "display_name": "Python 2",
   "language": "python",
   "name": "python2"
  },
  "language_info": {
   "codemirror_mode": {
    "name": "ipython",
    "version": 2
   },
   "file_extension": ".py",
   "mimetype": "text/x-python",
   "name": "python",
   "nbconvert_exporter": "python",
   "pygments_lexer": "ipython2",
   "version": "2.7.6"
  }
 },
 "nbformat": 4,
 "nbformat_minor": 1
}
